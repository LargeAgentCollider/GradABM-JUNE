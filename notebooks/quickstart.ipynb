{
 "cells": [
  {
   "cell_type": "code",
   "execution_count": 1,
   "id": "6ad8ebf5-bc81-4022-838b-b53d75434c68",
   "metadata": {},
   "outputs": [],
   "source": [
    "%load_ext autoreload\n",
    "%autoreload 2"
   ]
  },
  {
   "cell_type": "code",
   "execution_count": 2,
   "id": "b84696bd-4bb6-4077-9bfb-db3b9b739925",
   "metadata": {},
   "outputs": [],
   "source": [
    "import torch\n",
    "import yaml\n",
    "import numpy as np\n",
    "import matplotlib.pyplot as plt\n",
    "import torch_geometric\n",
    "from torch_geometric.data import HeteroData\n",
    "\n",
    "from grad_june.transmission import TransmissionSampler\n",
    "from grad_june.infection_networks import HouseholdNetwork, SchoolNetwork, InfectionNetworks\n",
    "from grad_june.symptoms import SymptomsSampler, SymptomsUpdater\n",
    "from grad_june.policies import Policies\n",
    "from grad_june.model import GradJune\n",
    "from grad_june.infection_seed import InfectionSeedByFraction\n",
    "from grad_june.timer import Timer\n",
    "from grad_june.runner import Runner\n",
    "from grad_june.paths import default_config_path"
   ]
  },
  {
   "cell_type": "code",
   "execution_count": 3,
   "id": "e5b84506-3a0e-4644-bfdb-2ef27f5f944e",
   "metadata": {},
   "outputs": [],
   "source": [
    "device = \"cpu\" # could be cuda:0 for gpu, etc.\n",
    "june_config_path = default_config_path # change to custom config"
   ]
  },
  {
   "cell_type": "markdown",
   "id": "c6149e43-17d0-4380-b79d-cea129877975",
   "metadata": {},
   "source": [
    "# 1. Load world data"
   ]
  },
  {
   "cell_type": "markdown",
   "id": "5ec55198-6786-4fc1-986b-f44c54dcde39",
   "metadata": {},
   "source": [
    "The first step is to create the network of contacts of the population.\n",
    "Let's do a simple one to illustrate the process."
   ]
  },
  {
   "cell_type": "code",
   "execution_count": 4,
   "id": "6e3caf08-7dc6-4bb4-8c15-37ac19a8cd31",
   "metadata": {},
   "outputs": [],
   "source": [
    "# We first initialize info about agents\n",
    "n_agents = 100\n",
    "\n",
    "data = HeteroData()\n",
    "data[\"agent\"].id = torch.arange(0, n_agents)\n",
    "data[\"agent\"].age = torch.randint(0, 100, (n_agents,))\n",
    "data[\"agent\"].sex = torch.randint(0, 2, (n_agents,))\n",
    "data[\"agent\"].area_id = torch.randint(0, 10, (n_agents,))\n",
    "\n",
    "\n",
    "# Now we initialize some venues (1 household and 1 school)\n",
    "data[\"household\"].id = torch.zeros(1)\n",
    "data[\"school\"].id = torch.zeros(1)\n",
    "\n",
    "# Now we assign people to them, in this case, half to the house and half to the school.\n",
    "data[\"household\"].people = torch.tensor([n_agents//2])\n",
    "data[\"school\"].people = torch.tensor([n_agents//2])\n",
    "data[\"agent\", \"attends_household\", \"household\"].edge_index = torch.vstack(\n",
    "    (data[\"agent\"].id[::2], torch.zeros(n_agents//2, dtype=torch.long))\n",
    ")\n",
    "data[\"agent\", \"attends_school\", \"school\"].edge_index = torch.vstack(\n",
    "    (data[\"agent\"].id[1::2], torch.zeros(n_agents//2, dtype=torch.long))\n",
    ")\n",
    "\n",
    "# and we make the graph bidirected\n",
    "data = torch_geometric.transforms.ToUndirected()(data)\n",
    "\n",
    "# Finally we need to define some infection parameters. These define the shape\n",
    "# of the infectivity profile for each agent, in case they get infected.\n",
    "inf_params = {}\n",
    "sampler = TransmissionSampler.from_file()\n",
    "inf_params_values = sampler(n_agents)\n",
    "inf_params[\"max_infectiousness\"] = inf_params_values[0]\n",
    "inf_params[\"shape\"] = inf_params_values[1]\n",
    "inf_params[\"rate\"] = inf_params_values[2]\n",
    "inf_params[\"shift\"] = inf_params_values[3]\n",
    "data[\"agent\"].infection_parameters = inf_params\n",
    "data[\"agent\"].transmission = torch.zeros(n_agents)\n",
    "data[\"agent\"].susceptibility = torch.ones(n_agents)\n",
    "data[\"agent\"].is_infected = torch.zeros(n_agents)\n",
    "data[\"agent\"].infection_time = torch.zeros(n_agents)\n",
    "\n",
    "# and initialize symptoms trajectories\n",
    "symptoms = {}\n",
    "symptoms[\"current_stage\"] = torch.ones(n_agents, dtype=torch.long)\n",
    "symptoms[\"next_stage\"] = torch.ones(n_agents, dtype=torch.long)\n",
    "symptoms[\"time_to_next_stage\"] = torch.zeros(n_agents)\n",
    "data[\"agent\"].symptoms = symptoms\n",
    "\n",
    "data = data.to(device)"
   ]
  },
  {
   "cell_type": "markdown",
   "id": "ea031c6a-eae4-4513-81a5-8664a42e949d",
   "metadata": {},
   "source": [
    "GradABM-JUNE provides functionality to convert a world from the original \n",
    "June world, created with a script like this: \n",
    "https://github.com/IDAS-Durham/JUNE/blob/master/example_scripts/create_world.py\n",
    "The created world (in h5 format) can then be converted into a TorchJune world by using the script\n",
    "in `example_scripts/make_data.py`"
   ]
  },
  {
   "cell_type": "markdown",
   "id": "8784908d-39f2-4906-b34c-51c5b677a326",
   "metadata": {},
   "source": [
    "# 2. Defining the model"
   ]
  },
  {
   "cell_type": "markdown",
   "id": "182a7663-e46b-4607-a152-0d6023d74d91",
   "metadata": {},
   "source": [
    "## 2.1. Infection networks"
   ]
  },
  {
   "cell_type": "markdown",
   "id": "ba2cf328-3222-4bc7-8fc6-e6eeabf8d5a7",
   "metadata": {},
   "source": [
    "We now define the \"active\" infection networks. That is, the world can have schools in it, but we may not want to simulate the contacts in there,\n",
    "so we can choose the active venues. These networks are specified as classes and they be easily extended to include more venues (see `grad_june/infection_networks/base.py`.\n",
    "\n",
    "We also need to define a contact intensity (beta parameters) for each location. These are typically calibrated to data."
   ]
  },
  {
   "cell_type": "code",
   "execution_count": 5,
   "id": "e5cdf42f-4221-4d5a-b23e-c250c40cf404",
   "metadata": {},
   "outputs": [],
   "source": [
    "household_net = HouseholdNetwork(log_beta = 0.5, device=device)\n",
    "school_net = SchoolNetwork(log_beta = 0.0, device=device)\n",
    "infection_networks = InfectionNetworks(school = school_net, household = household_net, device=device)"
   ]
  },
  {
   "cell_type": "markdown",
   "id": "d28b2c02-f377-4f87-913e-a6c714d730a5",
   "metadata": {},
   "source": [
    "## 2.2 Symptoms trajectories sampler"
   ]
  },
  {
   "cell_type": "markdown",
   "id": "c11f3c3d-4938-4a76-a8a7-11fff9eae1c3",
   "metadata": {},
   "source": [
    "This class samples trajectories for the infected population. To avoid overcrowding the notebook, we load it from\n",
    "the default config file (see the symptoms section) `configs/default.yaml`"
   ]
  },
  {
   "cell_type": "code",
   "execution_count": 6,
   "id": "72345490-cfd1-4149-8c5b-03c725fc17d0",
   "metadata": {},
   "outputs": [],
   "source": [
    "symptoms_sampler = SymptomsSampler.from_file(june_config_path) # you may need to change the path accordingly\n",
    "symptoms_updater = SymptomsUpdater(symptoms_sampler) # this updates the symptoms according to the sampler"
   ]
  },
  {
   "cell_type": "markdown",
   "id": "b8127fb7-7799-41ae-8c95-15f42e26e403",
   "metadata": {},
   "source": [
    "## 2.3 Policies"
   ]
  },
  {
   "cell_type": "markdown",
   "id": "6b006945-e1b8-4837-96e8-5848600c8294",
   "metadata": {},
   "source": [
    "Lastly, we define the active policies. Again to not overcrowd the notebook we just load it from the default config file"
   ]
  },
  {
   "cell_type": "code",
   "execution_count": 7,
   "id": "e30249ac-d51a-4cd5-858e-6a769961ca91",
   "metadata": {},
   "outputs": [],
   "source": [
    "policies = Policies.from_file(june_config_path)"
   ]
  },
  {
   "cell_type": "markdown",
   "id": "693a77a7-b909-4a19-ae1d-e0a9bd33cded",
   "metadata": {},
   "source": [
    "## 2.4 Infection Seed"
   ]
  },
  {
   "cell_type": "markdown",
   "id": "00a5ac7a-8771-448b-8c0c-f3e1da2f0e93",
   "metadata": {},
   "source": [
    "Here we specify the initial number of infections. We will start by infecting 5% of the population."
   ]
  },
  {
   "cell_type": "code",
   "execution_count": 8,
   "id": "a53c0514-868e-4b45-add1-6452508b225b",
   "metadata": {},
   "outputs": [],
   "source": [
    "log_fraction = np.log10(0.05)\n",
    "infection_seed = InfectionSeedByFraction(log_fraction, device=device)"
   ]
  },
  {
   "cell_type": "markdown",
   "id": "b8649745-b938-422d-9609-a79fae6cb8be",
   "metadata": {},
   "source": [
    "## 2.5 Build the model"
   ]
  },
  {
   "cell_type": "code",
   "execution_count": 9,
   "id": "c8bfec7b-6d66-4b47-aa95-c64619f186d6",
   "metadata": {},
   "outputs": [],
   "source": [
    "model = GradJune(infection_networks=infection_networks,\n",
    "                 symptoms_updater = symptoms_updater,\n",
    "                 policies=policies,\n",
    "                 device=device,\n",
    "                infection_seed=infection_seed)"
   ]
  },
  {
   "cell_type": "markdown",
   "id": "b63283d4-d0c4-4162-aa6a-b76532a7583d",
   "metadata": {},
   "source": [
    "A forward pass of this model then runs the interactions of one time-step. The time is controlled by the Timer class."
   ]
  },
  {
   "cell_type": "markdown",
   "id": "cfac97e5-5bb9-4b89-8c33-fa608843a8c9",
   "metadata": {},
   "source": [
    "# 2.5 Running it"
   ]
  },
  {
   "cell_type": "code",
   "execution_count": 10,
   "id": "630c3bb6-3458-4673-b2ad-e92aabc30905",
   "metadata": {},
   "outputs": [],
   "source": [
    "timer = Timer(initial_day = \"2020-03-01\", \n",
    "              total_days = 30, \n",
    "              weekday_step_duration = (24,), \n",
    "              weekend_step_duration=(24,), \n",
    "              weekday_activities = ((\"school\", \"household\"),), \n",
    "              weekend_activities = ((\"household\",),))"
   ]
  },
  {
   "cell_type": "markdown",
   "id": "0fc76734-5a93-4cdc-8a12-7c9c81e5731c",
   "metadata": {},
   "source": [
    "To run it, we pass the timer and the data to the model, the agent information inside data will be updated accordingly. Let us run it for a few time-steps, and save how\n",
    "the number of cases changes."
   ]
  },
  {
   "cell_type": "code",
   "execution_count": 11,
   "id": "aad8971c-a581-4a63-802a-cf16e28266f1",
   "metadata": {},
   "outputs": [],
   "source": [
    "n_cases = []\n",
    "for t in range(30):\n",
    "    data = model(data=data, timer=timer)\n",
    "    next(timer)\n",
    "    cases_t = data[\"agent\"].is_infected.sum()\n",
    "    n_cases.append(cases_t.item())\n"
   ]
  },
  {
   "cell_type": "code",
   "execution_count": 12,
   "id": "00569374-b97d-4b49-be0c-16b49109d018",
   "metadata": {},
   "outputs": [
    {
     "data": {
      "text/plain": [
       "[<matplotlib.lines.Line2D at 0x2aa118970>]"
      ]
     },
     "execution_count": 12,
     "metadata": {},
     "output_type": "execute_result"
    },
    {
     "data": {
      "image/png": "[encoded data removed]",
      "text/plain": [
       "<Figure size 640x480 with 1 Axes>"
      ]
     },
     "metadata": {},
     "output_type": "display_data"
    }
   ],
   "source": [
    "plt.plot(n_cases)"
   ]
  },
  {
   "cell_type": "markdown",
   "id": "cec0950a-24ad-4550-9deb-ccd2fb987e42",
   "metadata": {},
   "source": [
    "# 3. The Runner class"
   ]
  },
  {
   "cell_type": "markdown",
   "id": "d5619182-75b7-4ac5-8799-9b81ff05a319",
   "metadata": {},
   "source": [
    "The Runner class provides functionality to define and run the model multiple times in a convenient way.\n",
    "All the configuration is read from a config file.\n",
    "This is the recommended way to run TorchJune.\n",
    "The config file is self contained and all the configurable options are defined there. The `data_path` is a pickle file with the world data."
   ]
  },
  {
   "cell_type": "code",
   "execution_count": 13,
   "id": "53626e9e-fd9c-483b-b816-3d9f74a6ff20",
   "metadata": {},
   "outputs": [],
   "source": [
    "runner = Runner.from_file(june_config_path)"
   ]
  },
  {
   "cell_type": "code",
   "execution_count": 14,
   "id": "0b72fc76-54a0-4e41-8167-757fb7fe36e0",
   "metadata": {},
   "outputs": [],
   "source": [
    "results = runner()"
   ]
  },
  {
   "cell_type": "code",
   "execution_count": 15,
   "id": "d2419ba8-91b9-4fd3-b687-732420a4cc90",
   "metadata": {},
   "outputs": [
    {
     "data": {
      "image/png": "[encoded data removed]",
      "text/plain": [
       "<Figure size 1000x300 with 3 Axes>"
      ]
     },
     "metadata": {},
     "output_type": "display_data"
    }
   ],
   "source": [
    "fig, ax = plt.subplots(1,3, figsize=(10, 3))\n",
    "ax[0].plot(results[\"dates\"], results[\"daily_cases_per_timestep\"].cpu().numpy())\n",
    "ax[1].plot(results[\"dates\"], results[\"cases_per_timestep\"].cpu().numpy())\n",
    "ax[2].plot(results[\"dates\"], results[\"deaths_per_timestep\"].cpu().numpy())\n",
    "\n",
    "fig.autofmt_xdate()"
   ]
  }
 ],
 "metadata": {
  "kernelspec": {
   "display_name": "torch2",
   "language": "python",
   "name": "torch2"
  },
  "language_info": {
   "codemirror_mode": {
    "name": "ipython",
    "version": 3
   },
   "file_extension": ".py",
   "mimetype": "text/x-python",
   "name": "python",
   "nbconvert_exporter": "python",
   "pygments_lexer": "ipython3",
   "version": "3.10.9"
  }
 },
 "nbformat": 4,
 "nbformat_minor": 5
}
